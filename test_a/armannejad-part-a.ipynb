{
 "cells": [
  {
   "cell_type": "markdown",
   "id": "7c9e711b",
   "metadata": {
    "papermill": {
     "duration": 0.008436,
     "end_time": "2025-08-11T16:31:27.860950",
     "exception": false,
     "start_time": "2025-08-11T16:31:27.852514",
     "status": "completed"
    },
    "tags": []
   },
   "source": [
    "# Part A - Data Processing"
   ]
  },
  {
   "cell_type": "code",
   "execution_count": 1,
   "id": "a3e940df",
   "metadata": {
    "_cell_guid": "b1076dfc-b9ad-4769-8c92-a6c4dae69d19",
    "_uuid": "8f2839f25d086af736a60e9eeb907d3b93b6e0e5",
    "execution": {
     "iopub.execute_input": "2025-08-11T16:31:27.877695Z",
     "iopub.status.busy": "2025-08-11T16:31:27.877349Z",
     "iopub.status.idle": "2025-08-11T16:31:30.080018Z",
     "shell.execute_reply": "2025-08-11T16:31:30.078816Z"
    },
    "papermill": {
     "duration": 2.212727,
     "end_time": "2025-08-11T16:31:30.081889",
     "exception": false,
     "start_time": "2025-08-11T16:31:27.869162",
     "status": "completed"
    },
    "tags": []
   },
   "outputs": [
    {
     "name": "stdout",
     "output_type": "stream",
     "text": [
      "/kaggle/input/icb-gene/icb_gene_expression.csv\n",
      "/kaggle/input/icb-gene/icb_clinical_data.csv\n"
     ]
    }
   ],
   "source": [
    "import warnings\n",
    "warnings.filterwarnings('ignore')\n",
    "\n",
    "import numpy as np # linear algebra\n",
    "import pandas as pd # data processing, CSV file I/O (e.g. pd.read_csv)\n",
    "\n",
    "# Input data files are available in the read-only \"../input/\" directory\n",
    "# For example, running this (by clicking run or pressing Shift+Enter) will list all files under the input directory\n",
    "\n",
    "import os\n",
    "for dirname, _, filenames in os.walk('/kaggle/input'):\n",
    "    for filename in filenames:\n",
    "        print(os.path.join(dirname, filename))\n",
    "\n",
    "# You can write up to 20GB to the current directory (/kaggle/working/) that gets preserved as output when you create a version using \"Save & Run All\" \n",
    "# You can also write temporary files to /kaggle/temp/, but they won't be saved outside of the current session"
   ]
  },
  {
   "cell_type": "code",
   "execution_count": 2,
   "id": "cc508667",
   "metadata": {
    "execution": {
     "iopub.execute_input": "2025-08-11T16:31:30.099139Z",
     "iopub.status.busy": "2025-08-11T16:31:30.098668Z",
     "iopub.status.idle": "2025-08-11T16:31:30.139864Z",
     "shell.execute_reply": "2025-08-11T16:31:30.138707Z"
    },
    "papermill": {
     "duration": 0.052058,
     "end_time": "2025-08-11T16:31:30.141840",
     "exception": false,
     "start_time": "2025-08-11T16:31:30.089782",
     "status": "completed"
    },
    "tags": []
   },
   "outputs": [],
   "source": [
    "gene = pd.read_csv(\"/kaggle/input/icb-gene/icb_gene_expression.csv\")\n",
    "clinical = pd.read_csv(\"/kaggle/input/icb-gene/icb_clinical_data.csv\")"
   ]
  },
  {
   "cell_type": "code",
   "execution_count": 3,
   "id": "2446d405",
   "metadata": {
    "execution": {
     "iopub.execute_input": "2025-08-11T16:31:30.159183Z",
     "iopub.status.busy": "2025-08-11T16:31:30.158762Z",
     "iopub.status.idle": "2025-08-11T16:31:30.189184Z",
     "shell.execute_reply": "2025-08-11T16:31:30.187961Z"
    },
    "papermill": {
     "duration": 0.040802,
     "end_time": "2025-08-11T16:31:30.191058",
     "exception": false,
     "start_time": "2025-08-11T16:31:30.150256",
     "status": "completed"
    },
    "tags": []
   },
   "outputs": [
    {
     "data": {
      "text/html": [
       "<div>\n",
       "<style scoped>\n",
       "    .dataframe tbody tr th:only-of-type {\n",
       "        vertical-align: middle;\n",
       "    }\n",
       "\n",
       "    .dataframe tbody tr th {\n",
       "        vertical-align: top;\n",
       "    }\n",
       "\n",
       "    .dataframe thead th {\n",
       "        text-align: right;\n",
       "    }\n",
       "</style>\n",
       "<table border=\"1\" class=\"dataframe\">\n",
       "  <thead>\n",
       "    <tr style=\"text-align: right;\">\n",
       "      <th></th>\n",
       "      <th>Unnamed: 0</th>\n",
       "      <th>P5</th>\n",
       "      <th>P7</th>\n",
       "      <th>P9</th>\n",
       "      <th>P10</th>\n",
       "      <th>P16</th>\n",
       "      <th>P17</th>\n",
       "      <th>P18</th>\n",
       "      <th>P26</th>\n",
       "      <th>P28</th>\n",
       "      <th>P29</th>\n",
       "    </tr>\n",
       "  </thead>\n",
       "  <tbody>\n",
       "    <tr>\n",
       "      <th>0</th>\n",
       "      <td>ENSG00000000003.15</td>\n",
       "      <td>7.765452</td>\n",
       "      <td>8.913429</td>\n",
       "      <td>9.771778</td>\n",
       "      <td>9.273033</td>\n",
       "      <td>9.772394</td>\n",
       "      <td>7.824535</td>\n",
       "      <td>8.591114</td>\n",
       "      <td>9.148168</td>\n",
       "      <td>8.489485</td>\n",
       "      <td>8.648398</td>\n",
       "    </tr>\n",
       "    <tr>\n",
       "      <th>1</th>\n",
       "      <td>ENSG00000000005.6</td>\n",
       "      <td>3.204887</td>\n",
       "      <td>-9.965784</td>\n",
       "      <td>-9.965784</td>\n",
       "      <td>2.902536</td>\n",
       "      <td>3.521746</td>\n",
       "      <td>-9.965784</td>\n",
       "      <td>3.618535</td>\n",
       "      <td>-9.965784</td>\n",
       "      <td>3.675813</td>\n",
       "      <td>1.948329</td>\n",
       "    </tr>\n",
       "    <tr>\n",
       "      <th>2</th>\n",
       "      <td>ENSG00000000419.14</td>\n",
       "      <td>10.467766</td>\n",
       "      <td>11.175347</td>\n",
       "      <td>10.750276</td>\n",
       "      <td>11.111797</td>\n",
       "      <td>10.456492</td>\n",
       "      <td>10.524970</td>\n",
       "      <td>10.105455</td>\n",
       "      <td>10.895234</td>\n",
       "      <td>10.295921</td>\n",
       "      <td>10.610446</td>\n",
       "    </tr>\n",
       "    <tr>\n",
       "      <th>3</th>\n",
       "      <td>ENSG00000000457.14</td>\n",
       "      <td>8.548142</td>\n",
       "      <td>7.936986</td>\n",
       "      <td>8.980694</td>\n",
       "      <td>8.732069</td>\n",
       "      <td>8.699541</td>\n",
       "      <td>8.679584</td>\n",
       "      <td>8.671533</td>\n",
       "      <td>9.848007</td>\n",
       "      <td>9.015553</td>\n",
       "      <td>8.450990</td>\n",
       "    </tr>\n",
       "    <tr>\n",
       "      <th>4</th>\n",
       "      <td>ENSG00000000460.17</td>\n",
       "      <td>9.433551</td>\n",
       "      <td>7.942815</td>\n",
       "      <td>8.777460</td>\n",
       "      <td>8.640439</td>\n",
       "      <td>9.046752</td>\n",
       "      <td>8.146462</td>\n",
       "      <td>8.549159</td>\n",
       "      <td>9.823800</td>\n",
       "      <td>9.245558</td>\n",
       "      <td>8.613295</td>\n",
       "    </tr>\n",
       "  </tbody>\n",
       "</table>\n",
       "</div>"
      ],
      "text/plain": [
       "           Unnamed: 0         P5         P7         P9        P10        P16  \\\n",
       "0  ENSG00000000003.15   7.765452   8.913429   9.771778   9.273033   9.772394   \n",
       "1   ENSG00000000005.6   3.204887  -9.965784  -9.965784   2.902536   3.521746   \n",
       "2  ENSG00000000419.14  10.467766  11.175347  10.750276  11.111797  10.456492   \n",
       "3  ENSG00000000457.14   8.548142   7.936986   8.980694   8.732069   8.699541   \n",
       "4  ENSG00000000460.17   9.433551   7.942815   8.777460   8.640439   9.046752   \n",
       "\n",
       "         P17        P18        P26        P28        P29  \n",
       "0   7.824535   8.591114   9.148168   8.489485   8.648398  \n",
       "1  -9.965784   3.618535  -9.965784   3.675813   1.948329  \n",
       "2  10.524970  10.105455  10.895234  10.295921  10.610446  \n",
       "3   8.679584   8.671533   9.848007   9.015553   8.450990  \n",
       "4   8.146462   8.549159   9.823800   9.245558   8.613295  "
      ]
     },
     "execution_count": 3,
     "metadata": {},
     "output_type": "execute_result"
    }
   ],
   "source": [
    "gene.head()"
   ]
  },
  {
   "cell_type": "code",
   "execution_count": 4,
   "id": "3d6161b1",
   "metadata": {
    "execution": {
     "iopub.execute_input": "2025-08-11T16:31:30.207293Z",
     "iopub.status.busy": "2025-08-11T16:31:30.206890Z",
     "iopub.status.idle": "2025-08-11T16:31:30.251984Z",
     "shell.execute_reply": "2025-08-11T16:31:30.251129Z"
    },
    "papermill": {
     "duration": 0.055314,
     "end_time": "2025-08-11T16:31:30.253853",
     "exception": false,
     "start_time": "2025-08-11T16:31:30.198539",
     "status": "completed"
    },
    "tags": []
   },
   "outputs": [
    {
     "data": {
      "text/html": [
       "<div>\n",
       "<style scoped>\n",
       "    .dataframe tbody tr th:only-of-type {\n",
       "        vertical-align: middle;\n",
       "    }\n",
       "\n",
       "    .dataframe tbody tr th {\n",
       "        vertical-align: top;\n",
       "    }\n",
       "\n",
       "    .dataframe thead th {\n",
       "        text-align: right;\n",
       "    }\n",
       "</style>\n",
       "<table border=\"1\" class=\"dataframe\">\n",
       "  <thead>\n",
       "    <tr style=\"text-align: right;\">\n",
       "      <th></th>\n",
       "      <th>P5</th>\n",
       "      <th>P7</th>\n",
       "      <th>P9</th>\n",
       "      <th>P10</th>\n",
       "      <th>P16</th>\n",
       "      <th>P17</th>\n",
       "      <th>P18</th>\n",
       "      <th>P26</th>\n",
       "      <th>P28</th>\n",
       "      <th>P29</th>\n",
       "    </tr>\n",
       "  </thead>\n",
       "  <tbody>\n",
       "    <tr>\n",
       "      <th>count</th>\n",
       "      <td>10.000000</td>\n",
       "      <td>10.000000</td>\n",
       "      <td>10.000000</td>\n",
       "      <td>10.000000</td>\n",
       "      <td>10.000000</td>\n",
       "      <td>10.000000</td>\n",
       "      <td>10.000000</td>\n",
       "      <td>10.000000</td>\n",
       "      <td>10.000000</td>\n",
       "      <td>10.000000</td>\n",
       "    </tr>\n",
       "    <tr>\n",
       "      <th>mean</th>\n",
       "      <td>9.052830</td>\n",
       "      <td>7.768637</td>\n",
       "      <td>8.153517</td>\n",
       "      <td>9.115324</td>\n",
       "      <td>9.054844</td>\n",
       "      <td>7.674954</td>\n",
       "      <td>8.981937</td>\n",
       "      <td>8.065036</td>\n",
       "      <td>9.321240</td>\n",
       "      <td>9.060202</td>\n",
       "    </tr>\n",
       "    <tr>\n",
       "      <th>std</th>\n",
       "      <td>3.060812</td>\n",
       "      <td>6.655772</td>\n",
       "      <td>6.573781</td>\n",
       "      <td>3.071402</td>\n",
       "      <td>2.476177</td>\n",
       "      <td>6.579620</td>\n",
       "      <td>2.460510</td>\n",
       "      <td>6.657564</td>\n",
       "      <td>2.865300</td>\n",
       "      <td>3.111320</td>\n",
       "    </tr>\n",
       "    <tr>\n",
       "      <th>min</th>\n",
       "      <td>3.204887</td>\n",
       "      <td>-9.965784</td>\n",
       "      <td>-9.965784</td>\n",
       "      <td>2.902536</td>\n",
       "      <td>3.521746</td>\n",
       "      <td>-9.965784</td>\n",
       "      <td>3.618535</td>\n",
       "      <td>-9.965784</td>\n",
       "      <td>3.675813</td>\n",
       "      <td>1.948329</td>\n",
       "    </tr>\n",
       "    <tr>\n",
       "      <th>25%</th>\n",
       "      <td>7.961124</td>\n",
       "      <td>7.938444</td>\n",
       "      <td>8.828268</td>\n",
       "      <td>8.377884</td>\n",
       "      <td>8.786344</td>\n",
       "      <td>8.215739</td>\n",
       "      <td>8.559648</td>\n",
       "      <td>8.409804</td>\n",
       "      <td>8.621002</td>\n",
       "      <td>8.491566</td>\n",
       "    </tr>\n",
       "    <tr>\n",
       "      <th>50%</th>\n",
       "      <td>9.517016</td>\n",
       "      <td>8.640712</td>\n",
       "      <td>9.692925</td>\n",
       "      <td>9.002551</td>\n",
       "      <td>9.433453</td>\n",
       "      <td>8.649649</td>\n",
       "      <td>9.080159</td>\n",
       "      <td>9.670726</td>\n",
       "      <td>9.618205</td>\n",
       "      <td>8.952347</td>\n",
       "    </tr>\n",
       "    <tr>\n",
       "      <th>75%</th>\n",
       "      <td>9.714488</td>\n",
       "      <td>10.957734</td>\n",
       "      <td>11.068033</td>\n",
       "      <td>10.038277</td>\n",
       "      <td>10.319563</td>\n",
       "      <td>10.028797</td>\n",
       "      <td>10.013950</td>\n",
       "      <td>9.871162</td>\n",
       "      <td>10.240017</td>\n",
       "      <td>10.103393</td>\n",
       "    </tr>\n",
       "    <tr>\n",
       "      <th>max</th>\n",
       "      <td>15.353715</td>\n",
       "      <td>14.921520</td>\n",
       "      <td>13.575264</td>\n",
       "      <td>15.074575</td>\n",
       "      <td>12.631190</td>\n",
       "      <td>15.338373</td>\n",
       "      <td>12.880043</td>\n",
       "      <td>15.340231</td>\n",
       "      <td>14.705634</td>\n",
       "      <td>14.611246</td>\n",
       "    </tr>\n",
       "  </tbody>\n",
       "</table>\n",
       "</div>"
      ],
      "text/plain": [
       "              P5         P7         P9        P10        P16        P17  \\\n",
       "count  10.000000  10.000000  10.000000  10.000000  10.000000  10.000000   \n",
       "mean    9.052830   7.768637   8.153517   9.115324   9.054844   7.674954   \n",
       "std     3.060812   6.655772   6.573781   3.071402   2.476177   6.579620   \n",
       "min     3.204887  -9.965784  -9.965784   2.902536   3.521746  -9.965784   \n",
       "25%     7.961124   7.938444   8.828268   8.377884   8.786344   8.215739   \n",
       "50%     9.517016   8.640712   9.692925   9.002551   9.433453   8.649649   \n",
       "75%     9.714488  10.957734  11.068033  10.038277  10.319563  10.028797   \n",
       "max    15.353715  14.921520  13.575264  15.074575  12.631190  15.338373   \n",
       "\n",
       "             P18        P26        P28        P29  \n",
       "count  10.000000  10.000000  10.000000  10.000000  \n",
       "mean    8.981937   8.065036   9.321240   9.060202  \n",
       "std     2.460510   6.657564   2.865300   3.111320  \n",
       "min     3.618535  -9.965784   3.675813   1.948329  \n",
       "25%     8.559648   8.409804   8.621002   8.491566  \n",
       "50%     9.080159   9.670726   9.618205   8.952347  \n",
       "75%    10.013950   9.871162  10.240017  10.103393  \n",
       "max    12.880043  15.340231  14.705634  14.611246  "
      ]
     },
     "execution_count": 4,
     "metadata": {},
     "output_type": "execute_result"
    }
   ],
   "source": [
    "gene.describe()"
   ]
  },
  {
   "cell_type": "code",
   "execution_count": 5,
   "id": "53cbd612",
   "metadata": {
    "execution": {
     "iopub.execute_input": "2025-08-11T16:31:30.270884Z",
     "iopub.status.busy": "2025-08-11T16:31:30.270583Z",
     "iopub.status.idle": "2025-08-11T16:31:30.286117Z",
     "shell.execute_reply": "2025-08-11T16:31:30.284947Z"
    },
    "papermill": {
     "duration": 0.025932,
     "end_time": "2025-08-11T16:31:30.287809",
     "exception": false,
     "start_time": "2025-08-11T16:31:30.261877",
     "status": "completed"
    },
    "tags": []
   },
   "outputs": [
    {
     "data": {
      "text/html": [
       "<div>\n",
       "<style scoped>\n",
       "    .dataframe tbody tr th:only-of-type {\n",
       "        vertical-align: middle;\n",
       "    }\n",
       "\n",
       "    .dataframe tbody tr th {\n",
       "        vertical-align: top;\n",
       "    }\n",
       "\n",
       "    .dataframe thead th {\n",
       "        text-align: right;\n",
       "    }\n",
       "</style>\n",
       "<table border=\"1\" class=\"dataframe\">\n",
       "  <thead>\n",
       "    <tr style=\"text-align: right;\">\n",
       "      <th></th>\n",
       "      <th>Unnamed: 0</th>\n",
       "      <th>patientid</th>\n",
       "      <th>sex</th>\n",
       "      <th>age</th>\n",
       "      <th>cancer_type</th>\n",
       "      <th>histo</th>\n",
       "      <th>tissueid</th>\n",
       "      <th>treatmentid</th>\n",
       "      <th>stage</th>\n",
       "      <th>response.other.info</th>\n",
       "      <th>recist</th>\n",
       "    </tr>\n",
       "  </thead>\n",
       "  <tbody>\n",
       "    <tr>\n",
       "      <th>0</th>\n",
       "      <td>P10</td>\n",
       "      <td>P10</td>\n",
       "      <td>M</td>\n",
       "      <td>55.0</td>\n",
       "      <td>Kidney</td>\n",
       "      <td>NaN</td>\n",
       "      <td>Kidney</td>\n",
       "      <td>NaN</td>\n",
       "      <td>NaN</td>\n",
       "      <td>NaN</td>\n",
       "      <td>PD</td>\n",
       "    </tr>\n",
       "    <tr>\n",
       "      <th>1</th>\n",
       "      <td>P16</td>\n",
       "      <td>P16</td>\n",
       "      <td>F</td>\n",
       "      <td>60.0</td>\n",
       "      <td>Kidney</td>\n",
       "      <td>NaN</td>\n",
       "      <td>Kidney</td>\n",
       "      <td>NaN</td>\n",
       "      <td>NaN</td>\n",
       "      <td>NaN</td>\n",
       "      <td>PD</td>\n",
       "    </tr>\n",
       "    <tr>\n",
       "      <th>2</th>\n",
       "      <td>P17</td>\n",
       "      <td>P17</td>\n",
       "      <td>M</td>\n",
       "      <td>65.0</td>\n",
       "      <td>Kidney</td>\n",
       "      <td>NaN</td>\n",
       "      <td>Kidney</td>\n",
       "      <td>NaN</td>\n",
       "      <td>NaN</td>\n",
       "      <td>NaN</td>\n",
       "      <td>mixed</td>\n",
       "    </tr>\n",
       "    <tr>\n",
       "      <th>3</th>\n",
       "      <td>P18</td>\n",
       "      <td>P18</td>\n",
       "      <td>M</td>\n",
       "      <td>68.0</td>\n",
       "      <td>Kidney</td>\n",
       "      <td>NaN</td>\n",
       "      <td>Kidney</td>\n",
       "      <td>NaN</td>\n",
       "      <td>NaN</td>\n",
       "      <td>NaN</td>\n",
       "      <td>PR</td>\n",
       "    </tr>\n",
       "    <tr>\n",
       "      <th>4</th>\n",
       "      <td>P26</td>\n",
       "      <td>P26</td>\n",
       "      <td>F</td>\n",
       "      <td>75.0</td>\n",
       "      <td>Kidney</td>\n",
       "      <td>NaN</td>\n",
       "      <td>Kidney</td>\n",
       "      <td>NaN</td>\n",
       "      <td>NaN</td>\n",
       "      <td>NaN</td>\n",
       "      <td>mixed</td>\n",
       "    </tr>\n",
       "  </tbody>\n",
       "</table>\n",
       "</div>"
      ],
      "text/plain": [
       "  Unnamed: 0 patientid sex   age cancer_type  histo tissueid  treatmentid  \\\n",
       "0        P10       P10   M  55.0      Kidney    NaN   Kidney          NaN   \n",
       "1        P16       P16   F  60.0      Kidney    NaN   Kidney          NaN   \n",
       "2        P17       P17   M  65.0      Kidney    NaN   Kidney          NaN   \n",
       "3        P18       P18   M  68.0      Kidney    NaN   Kidney          NaN   \n",
       "4        P26       P26   F  75.0      Kidney    NaN   Kidney          NaN   \n",
       "\n",
       "   stage  response.other.info recist  \n",
       "0    NaN                  NaN     PD  \n",
       "1    NaN                  NaN     PD  \n",
       "2    NaN                  NaN  mixed  \n",
       "3    NaN                  NaN     PR  \n",
       "4    NaN                  NaN  mixed  "
      ]
     },
     "execution_count": 5,
     "metadata": {},
     "output_type": "execute_result"
    }
   ],
   "source": [
    "clinical.head()"
   ]
  },
  {
   "cell_type": "code",
   "execution_count": 6,
   "id": "337696ed",
   "metadata": {
    "execution": {
     "iopub.execute_input": "2025-08-11T16:31:30.304724Z",
     "iopub.status.busy": "2025-08-11T16:31:30.304405Z",
     "iopub.status.idle": "2025-08-11T16:31:30.325390Z",
     "shell.execute_reply": "2025-08-11T16:31:30.324274Z"
    },
    "papermill": {
     "duration": 0.031108,
     "end_time": "2025-08-11T16:31:30.326902",
     "exception": false,
     "start_time": "2025-08-11T16:31:30.295794",
     "status": "completed"
    },
    "tags": []
   },
   "outputs": [
    {
     "data": {
      "text/html": [
       "<div>\n",
       "<style scoped>\n",
       "    .dataframe tbody tr th:only-of-type {\n",
       "        vertical-align: middle;\n",
       "    }\n",
       "\n",
       "    .dataframe tbody tr th {\n",
       "        vertical-align: top;\n",
       "    }\n",
       "\n",
       "    .dataframe thead th {\n",
       "        text-align: right;\n",
       "    }\n",
       "</style>\n",
       "<table border=\"1\" class=\"dataframe\">\n",
       "  <thead>\n",
       "    <tr style=\"text-align: right;\">\n",
       "      <th></th>\n",
       "      <th>age</th>\n",
       "      <th>histo</th>\n",
       "      <th>treatmentid</th>\n",
       "      <th>stage</th>\n",
       "      <th>response.other.info</th>\n",
       "    </tr>\n",
       "  </thead>\n",
       "  <tbody>\n",
       "    <tr>\n",
       "      <th>count</th>\n",
       "      <td>15.000000</td>\n",
       "      <td>0.0</td>\n",
       "      <td>0.0</td>\n",
       "      <td>0.0</td>\n",
       "      <td>0.0</td>\n",
       "    </tr>\n",
       "    <tr>\n",
       "      <th>mean</th>\n",
       "      <td>59.866667</td>\n",
       "      <td>NaN</td>\n",
       "      <td>NaN</td>\n",
       "      <td>NaN</td>\n",
       "      <td>NaN</td>\n",
       "    </tr>\n",
       "    <tr>\n",
       "      <th>std</th>\n",
       "      <td>19.067050</td>\n",
       "      <td>NaN</td>\n",
       "      <td>NaN</td>\n",
       "      <td>NaN</td>\n",
       "      <td>NaN</td>\n",
       "    </tr>\n",
       "    <tr>\n",
       "      <th>min</th>\n",
       "      <td>20.000000</td>\n",
       "      <td>NaN</td>\n",
       "      <td>NaN</td>\n",
       "      <td>NaN</td>\n",
       "      <td>NaN</td>\n",
       "    </tr>\n",
       "    <tr>\n",
       "      <th>25%</th>\n",
       "      <td>51.500000</td>\n",
       "      <td>NaN</td>\n",
       "      <td>NaN</td>\n",
       "      <td>NaN</td>\n",
       "      <td>NaN</td>\n",
       "    </tr>\n",
       "    <tr>\n",
       "      <th>50%</th>\n",
       "      <td>60.000000</td>\n",
       "      <td>NaN</td>\n",
       "      <td>NaN</td>\n",
       "      <td>NaN</td>\n",
       "      <td>NaN</td>\n",
       "    </tr>\n",
       "    <tr>\n",
       "      <th>75%</th>\n",
       "      <td>71.500000</td>\n",
       "      <td>NaN</td>\n",
       "      <td>NaN</td>\n",
       "      <td>NaN</td>\n",
       "      <td>NaN</td>\n",
       "    </tr>\n",
       "    <tr>\n",
       "      <th>max</th>\n",
       "      <td>88.000000</td>\n",
       "      <td>NaN</td>\n",
       "      <td>NaN</td>\n",
       "      <td>NaN</td>\n",
       "      <td>NaN</td>\n",
       "    </tr>\n",
       "  </tbody>\n",
       "</table>\n",
       "</div>"
      ],
      "text/plain": [
       "             age  histo  treatmentid  stage  response.other.info\n",
       "count  15.000000    0.0          0.0    0.0                  0.0\n",
       "mean   59.866667    NaN          NaN    NaN                  NaN\n",
       "std    19.067050    NaN          NaN    NaN                  NaN\n",
       "min    20.000000    NaN          NaN    NaN                  NaN\n",
       "25%    51.500000    NaN          NaN    NaN                  NaN\n",
       "50%    60.000000    NaN          NaN    NaN                  NaN\n",
       "75%    71.500000    NaN          NaN    NaN                  NaN\n",
       "max    88.000000    NaN          NaN    NaN                  NaN"
      ]
     },
     "execution_count": 6,
     "metadata": {},
     "output_type": "execute_result"
    }
   ],
   "source": [
    "clinical.describe()"
   ]
  },
  {
   "cell_type": "markdown",
   "id": "0678dad8",
   "metadata": {
    "papermill": {
     "duration": 0.008241,
     "end_time": "2025-08-11T16:31:30.343277",
     "exception": false,
     "start_time": "2025-08-11T16:31:30.335036",
     "status": "completed"
    },
    "tags": []
   },
   "source": [
    "## Task 1: mismatched sample ids"
   ]
  },
  {
   "cell_type": "code",
   "execution_count": 7,
   "id": "bb044bb2",
   "metadata": {
    "execution": {
     "iopub.execute_input": "2025-08-11T16:31:30.360500Z",
     "iopub.status.busy": "2025-08-11T16:31:30.360170Z",
     "iopub.status.idle": "2025-08-11T16:31:30.367003Z",
     "shell.execute_reply": "2025-08-11T16:31:30.366145Z"
    },
    "papermill": {
     "duration": 0.017466,
     "end_time": "2025-08-11T16:31:30.368658",
     "exception": false,
     "start_time": "2025-08-11T16:31:30.351192",
     "status": "completed"
    },
    "tags": []
   },
   "outputs": [
    {
     "data": {
      "text/plain": [
       "{'P10',\n",
       " 'P16',\n",
       " 'P17',\n",
       " 'P18',\n",
       " 'P26',\n",
       " 'P28',\n",
       " 'P29',\n",
       " 'P31',\n",
       " 'P36',\n",
       " 'P42',\n",
       " 'P5',\n",
       " 'P55',\n",
       " 'P61',\n",
       " 'P7',\n",
       " 'P9',\n",
       " 'nan'}"
      ]
     },
     "execution_count": 7,
     "metadata": {},
     "output_type": "execute_result"
    }
   ],
   "source": [
    "clinical_sample_ids = set(clinical['patientid'].astype(str))\n",
    "clinical_sample_ids"
   ]
  },
  {
   "cell_type": "code",
   "execution_count": 8,
   "id": "2073314d",
   "metadata": {
    "execution": {
     "iopub.execute_input": "2025-08-11T16:31:30.385923Z",
     "iopub.status.busy": "2025-08-11T16:31:30.385514Z",
     "iopub.status.idle": "2025-08-11T16:31:30.391882Z",
     "shell.execute_reply": "2025-08-11T16:31:30.390949Z"
    },
    "papermill": {
     "duration": 0.016806,
     "end_time": "2025-08-11T16:31:30.393454",
     "exception": false,
     "start_time": "2025-08-11T16:31:30.376648",
     "status": "completed"
    },
    "tags": []
   },
   "outputs": [
    {
     "data": {
      "text/plain": [
       "['Unnamed: 0',\n",
       " 'P5',\n",
       " 'P7',\n",
       " 'P9',\n",
       " 'P10',\n",
       " 'P16',\n",
       " 'P17',\n",
       " 'P18',\n",
       " 'P26',\n",
       " 'P28',\n",
       " 'P29']"
      ]
     },
     "execution_count": 8,
     "metadata": {},
     "output_type": "execute_result"
    }
   ],
   "source": [
    "gene_columns = gene.columns.tolist()\n",
    "gene_columns"
   ]
  },
  {
   "cell_type": "code",
   "execution_count": 9,
   "id": "31634fb2",
   "metadata": {
    "execution": {
     "iopub.execute_input": "2025-08-11T16:31:30.410580Z",
     "iopub.status.busy": "2025-08-11T16:31:30.410248Z",
     "iopub.status.idle": "2025-08-11T16:31:30.417239Z",
     "shell.execute_reply": "2025-08-11T16:31:30.416168Z"
    },
    "papermill": {
     "duration": 0.017682,
     "end_time": "2025-08-11T16:31:30.419156",
     "exception": false,
     "start_time": "2025-08-11T16:31:30.401474",
     "status": "completed"
    },
    "tags": []
   },
   "outputs": [
    {
     "data": {
      "text/plain": [
       "{'P10', 'P16', 'P17', 'P18', 'P26', 'P28', 'P29', 'P5', 'P7', 'P9'}"
      ]
     },
     "execution_count": 9,
     "metadata": {},
     "output_type": "execute_result"
    }
   ],
   "source": [
    "gene_sample_ids = set([col for col in gene_columns if col != gene_columns[0]])\n",
    "gene_sample_ids"
   ]
  },
  {
   "cell_type": "code",
   "execution_count": 10,
   "id": "b4e80b87",
   "metadata": {
    "execution": {
     "iopub.execute_input": "2025-08-11T16:31:30.438386Z",
     "iopub.status.busy": "2025-08-11T16:31:30.438001Z",
     "iopub.status.idle": "2025-08-11T16:31:30.442678Z",
     "shell.execute_reply": "2025-08-11T16:31:30.441741Z"
    },
    "papermill": {
     "duration": 0.016755,
     "end_time": "2025-08-11T16:31:30.444475",
     "exception": false,
     "start_time": "2025-08-11T16:31:30.427720",
     "status": "completed"
    },
    "tags": []
   },
   "outputs": [],
   "source": [
    "# Sample IDs in clinical but not in expression\n",
    "clinical_only = clinical_sample_ids - gene_sample_ids\n",
    "# Sample IDs in expression but not in clinical\n",
    "gene_only = gene_sample_ids - clinical_sample_ids"
   ]
  },
  {
   "cell_type": "code",
   "execution_count": 11,
   "id": "bd9ea530",
   "metadata": {
    "execution": {
     "iopub.execute_input": "2025-08-11T16:31:30.463873Z",
     "iopub.status.busy": "2025-08-11T16:31:30.463568Z",
     "iopub.status.idle": "2025-08-11T16:31:30.469987Z",
     "shell.execute_reply": "2025-08-11T16:31:30.468971Z"
    },
    "papermill": {
     "duration": 0.017177,
     "end_time": "2025-08-11T16:31:30.471522",
     "exception": false,
     "start_time": "2025-08-11T16:31:30.454345",
     "status": "completed"
    },
    "tags": []
   },
   "outputs": [
    {
     "data": {
      "text/plain": [
       "{'P31', 'P36', 'P42', 'P55', 'P61', 'nan'}"
      ]
     },
     "execution_count": 11,
     "metadata": {},
     "output_type": "execute_result"
    }
   ],
   "source": [
    "clinical_only"
   ]
  },
  {
   "cell_type": "code",
   "execution_count": 12,
   "id": "78a595ee",
   "metadata": {
    "execution": {
     "iopub.execute_input": "2025-08-11T16:31:30.489936Z",
     "iopub.status.busy": "2025-08-11T16:31:30.489453Z",
     "iopub.status.idle": "2025-08-11T16:31:30.495668Z",
     "shell.execute_reply": "2025-08-11T16:31:30.494848Z"
    },
    "papermill": {
     "duration": 0.017419,
     "end_time": "2025-08-11T16:31:30.497351",
     "exception": false,
     "start_time": "2025-08-11T16:31:30.479932",
     "status": "completed"
    },
    "tags": []
   },
   "outputs": [
    {
     "data": {
      "text/plain": [
       "set()"
      ]
     },
     "execution_count": 12,
     "metadata": {},
     "output_type": "execute_result"
    }
   ],
   "source": [
    "gene_only"
   ]
  },
  {
   "cell_type": "markdown",
   "id": "4177cb2d",
   "metadata": {
    "papermill": {
     "duration": 0.008035,
     "end_time": "2025-08-11T16:31:30.513835",
     "exception": false,
     "start_time": "2025-08-11T16:31:30.505800",
     "status": "completed"
    },
    "tags": []
   },
   "source": [
    "## Task 2: missing values"
   ]
  },
  {
   "cell_type": "markdown",
   "id": "5b82abcb",
   "metadata": {
    "papermill": {
     "duration": 0.076046,
     "end_time": "2025-08-11T16:31:30.598178",
     "exception": false,
     "start_time": "2025-08-11T16:31:30.522132",
     "status": "completed"
    },
    "tags": []
   },
   "source": [
    "### Clinical Samples"
   ]
  },
  {
   "cell_type": "code",
   "execution_count": 13,
   "id": "fb0c2f11",
   "metadata": {
    "execution": {
     "iopub.execute_input": "2025-08-11T16:31:30.616904Z",
     "iopub.status.busy": "2025-08-11T16:31:30.615900Z",
     "iopub.status.idle": "2025-08-11T16:31:30.630423Z",
     "shell.execute_reply": "2025-08-11T16:31:30.629478Z"
    },
    "papermill": {
     "duration": 0.02567,
     "end_time": "2025-08-11T16:31:30.632261",
     "exception": false,
     "start_time": "2025-08-11T16:31:30.606591",
     "status": "completed"
    },
    "tags": []
   },
   "outputs": [
    {
     "data": {
      "text/html": [
       "<div>\n",
       "<style scoped>\n",
       "    .dataframe tbody tr th:only-of-type {\n",
       "        vertical-align: middle;\n",
       "    }\n",
       "\n",
       "    .dataframe tbody tr th {\n",
       "        vertical-align: top;\n",
       "    }\n",
       "\n",
       "    .dataframe thead th {\n",
       "        text-align: right;\n",
       "    }\n",
       "</style>\n",
       "<table border=\"1\" class=\"dataframe\">\n",
       "  <thead>\n",
       "    <tr style=\"text-align: right;\">\n",
       "      <th></th>\n",
       "      <th>Unnamed: 0</th>\n",
       "      <th>patientid</th>\n",
       "      <th>sex</th>\n",
       "      <th>age</th>\n",
       "      <th>cancer_type</th>\n",
       "      <th>histo</th>\n",
       "      <th>tissueid</th>\n",
       "      <th>treatmentid</th>\n",
       "      <th>stage</th>\n",
       "      <th>response.other.info</th>\n",
       "      <th>recist</th>\n",
       "    </tr>\n",
       "  </thead>\n",
       "  <tbody>\n",
       "    <tr>\n",
       "      <th>0</th>\n",
       "      <td>P10</td>\n",
       "      <td>P10</td>\n",
       "      <td>M</td>\n",
       "      <td>55.0</td>\n",
       "      <td>Kidney</td>\n",
       "      <td>NaN</td>\n",
       "      <td>Kidney</td>\n",
       "      <td>NaN</td>\n",
       "      <td>NaN</td>\n",
       "      <td>NaN</td>\n",
       "      <td>PD</td>\n",
       "    </tr>\n",
       "    <tr>\n",
       "      <th>1</th>\n",
       "      <td>P16</td>\n",
       "      <td>P16</td>\n",
       "      <td>F</td>\n",
       "      <td>60.0</td>\n",
       "      <td>Kidney</td>\n",
       "      <td>NaN</td>\n",
       "      <td>Kidney</td>\n",
       "      <td>NaN</td>\n",
       "      <td>NaN</td>\n",
       "      <td>NaN</td>\n",
       "      <td>PD</td>\n",
       "    </tr>\n",
       "    <tr>\n",
       "      <th>2</th>\n",
       "      <td>P17</td>\n",
       "      <td>P17</td>\n",
       "      <td>M</td>\n",
       "      <td>65.0</td>\n",
       "      <td>Kidney</td>\n",
       "      <td>NaN</td>\n",
       "      <td>Kidney</td>\n",
       "      <td>NaN</td>\n",
       "      <td>NaN</td>\n",
       "      <td>NaN</td>\n",
       "      <td>mixed</td>\n",
       "    </tr>\n",
       "    <tr>\n",
       "      <th>3</th>\n",
       "      <td>P18</td>\n",
       "      <td>P18</td>\n",
       "      <td>M</td>\n",
       "      <td>68.0</td>\n",
       "      <td>Kidney</td>\n",
       "      <td>NaN</td>\n",
       "      <td>Kidney</td>\n",
       "      <td>NaN</td>\n",
       "      <td>NaN</td>\n",
       "      <td>NaN</td>\n",
       "      <td>PR</td>\n",
       "    </tr>\n",
       "    <tr>\n",
       "      <th>4</th>\n",
       "      <td>P26</td>\n",
       "      <td>P26</td>\n",
       "      <td>F</td>\n",
       "      <td>75.0</td>\n",
       "      <td>Kidney</td>\n",
       "      <td>NaN</td>\n",
       "      <td>Kidney</td>\n",
       "      <td>NaN</td>\n",
       "      <td>NaN</td>\n",
       "      <td>NaN</td>\n",
       "      <td>mixed</td>\n",
       "    </tr>\n",
       "  </tbody>\n",
       "</table>\n",
       "</div>"
      ],
      "text/plain": [
       "  Unnamed: 0 patientid sex   age cancer_type  histo tissueid  treatmentid  \\\n",
       "0        P10       P10   M  55.0      Kidney    NaN   Kidney          NaN   \n",
       "1        P16       P16   F  60.0      Kidney    NaN   Kidney          NaN   \n",
       "2        P17       P17   M  65.0      Kidney    NaN   Kidney          NaN   \n",
       "3        P18       P18   M  68.0      Kidney    NaN   Kidney          NaN   \n",
       "4        P26       P26   F  75.0      Kidney    NaN   Kidney          NaN   \n",
       "\n",
       "   stage  response.other.info recist  \n",
       "0    NaN                  NaN     PD  \n",
       "1    NaN                  NaN     PD  \n",
       "2    NaN                  NaN  mixed  \n",
       "3    NaN                  NaN     PR  \n",
       "4    NaN                  NaN  mixed  "
      ]
     },
     "execution_count": 13,
     "metadata": {},
     "output_type": "execute_result"
    }
   ],
   "source": [
    "# First we need to replace \"NA\" strings with actual NA\n",
    "clinical_clean = clinical.replace('NA', np.nan)\n",
    "clinical_clean.head()"
   ]
  },
  {
   "cell_type": "code",
   "execution_count": 14,
   "id": "63d01f4f",
   "metadata": {
    "execution": {
     "iopub.execute_input": "2025-08-11T16:31:30.651610Z",
     "iopub.status.busy": "2025-08-11T16:31:30.651262Z",
     "iopub.status.idle": "2025-08-11T16:31:30.659932Z",
     "shell.execute_reply": "2025-08-11T16:31:30.658833Z"
    },
    "papermill": {
     "duration": 0.019967,
     "end_time": "2025-08-11T16:31:30.661404",
     "exception": false,
     "start_time": "2025-08-11T16:31:30.641437",
     "status": "completed"
    },
    "tags": []
   },
   "outputs": [
    {
     "name": "stdout",
     "output_type": "stream",
     "text": [
      "Unnamed: 0              1\n",
      "patientid               5\n",
      "sex                     4\n",
      "age                     5\n",
      "cancer_type             5\n",
      "histo                  20\n",
      "tissueid                5\n",
      "treatmentid            20\n",
      "stage                  20\n",
      "response.other.info    20\n",
      "recist                  5\n",
      "dtype: int64 20 Unnamed: 0               5.0\n",
      "patientid               25.0\n",
      "sex                     20.0\n",
      "age                     25.0\n",
      "cancer_type             25.0\n",
      "histo                  100.0\n",
      "tissueid                25.0\n",
      "treatmentid            100.0\n",
      "stage                  100.0\n",
      "response.other.info    100.0\n",
      "recist                  25.0\n",
      "dtype: float64\n"
     ]
    }
   ],
   "source": [
    "# Calculations\n",
    "clinical_missing = clinical_clean.isnull().sum()\n",
    "clinical_total = len(clinical_clean)\n",
    "clinical_missing_pct = (clinical_missing / clinical_total) * 100\n",
    "print(clinical_missing, clinical_total, clinical_missing_pct)"
   ]
  },
  {
   "cell_type": "markdown",
   "id": "7cea906b",
   "metadata": {
    "papermill": {
     "duration": 0.008252,
     "end_time": "2025-08-11T16:31:30.678459",
     "exception": false,
     "start_time": "2025-08-11T16:31:30.670207",
     "status": "completed"
    },
    "tags": []
   },
   "source": [
    "#### Missing values per column in clinical data:"
   ]
  },
  {
   "cell_type": "code",
   "execution_count": 15,
   "id": "6cea83c3",
   "metadata": {
    "execution": {
     "iopub.execute_input": "2025-08-11T16:31:30.697213Z",
     "iopub.status.busy": "2025-08-11T16:31:30.696844Z",
     "iopub.status.idle": "2025-08-11T16:31:30.703606Z",
     "shell.execute_reply": "2025-08-11T16:31:30.702728Z"
    },
    "papermill": {
     "duration": 0.018014,
     "end_time": "2025-08-11T16:31:30.705172",
     "exception": false,
     "start_time": "2025-08-11T16:31:30.687158",
     "status": "completed"
    },
    "tags": []
   },
   "outputs": [
    {
     "name": "stdout",
     "output_type": "stream",
     "text": [
      "  patientid           :   5 / 20 ( 25.0%)\n",
      "  sex                 :   4 / 20 ( 20.0%)\n",
      "  age                 :   5 / 20 ( 25.0%)\n",
      "  cancer_type         :   5 / 20 ( 25.0%)\n",
      "  histo               :  20 / 20 (100.0%)\n",
      "  tissueid            :   5 / 20 ( 25.0%)\n",
      "  treatmentid         :  20 / 20 (100.0%)\n",
      "  stage               :  20 / 20 (100.0%)\n",
      "  response.other.info :  20 / 20 (100.0%)\n",
      "  recist              :   5 / 20 ( 25.0%)\n",
      "\n",
      "Total clinical data shape: (20, 11)\n",
      "Total missing values in clinical data: 110\n"
     ]
    }
   ],
   "source": [
    "for col in clinical_clean.columns:\n",
    "    if col != clinical_clean.columns[0]:  # skip index col\n",
    "        missing_count = clinical_missing[col]\n",
    "        missing_pct = clinical_missing_pct[col]\n",
    "        print(f\"  {col:<20}: {missing_count:>3} / {clinical_total} ({missing_pct:>5.1f}%)\")\n",
    "\n",
    "print(f\"\\nTotal clinical data shape: {clinical_clean.shape}\")\n",
    "print(f\"Total missing values in clinical data: {clinical_missing.sum()}\")"
   ]
  },
  {
   "cell_type": "markdown",
   "id": "497b4897",
   "metadata": {
    "papermill": {
     "duration": 0.009244,
     "end_time": "2025-08-11T16:31:30.725285",
     "exception": false,
     "start_time": "2025-08-11T16:31:30.716041",
     "status": "completed"
    },
    "tags": []
   },
   "source": [
    "### Gene:"
   ]
  },
  {
   "cell_type": "code",
   "execution_count": 16,
   "id": "541ca6b1",
   "metadata": {
    "execution": {
     "iopub.execute_input": "2025-08-11T16:31:30.744868Z",
     "iopub.status.busy": "2025-08-11T16:31:30.744493Z",
     "iopub.status.idle": "2025-08-11T16:31:30.751561Z",
     "shell.execute_reply": "2025-08-11T16:31:30.750453Z"
    },
    "papermill": {
     "duration": 0.019365,
     "end_time": "2025-08-11T16:31:30.753390",
     "exception": false,
     "start_time": "2025-08-11T16:31:30.734025",
     "status": "completed"
    },
    "tags": []
   },
   "outputs": [
    {
     "data": {
      "text/plain": [
       "['P5', 'P7', 'P9', 'P10', 'P16', 'P17', 'P18', 'P26', 'P28', 'P29']"
      ]
     },
     "execution_count": 16,
     "metadata": {},
     "output_type": "execute_result"
    }
   ],
   "source": [
    "gene_columns = [col for col in gene.columns if col != gene.columns[0]]\n",
    "gene_columns"
   ]
  },
  {
   "cell_type": "code",
   "execution_count": 17,
   "id": "4d75748f",
   "metadata": {
    "execution": {
     "iopub.execute_input": "2025-08-11T16:31:30.772132Z",
     "iopub.status.busy": "2025-08-11T16:31:30.771769Z",
     "iopub.status.idle": "2025-08-11T16:31:30.787214Z",
     "shell.execute_reply": "2025-08-11T16:31:30.785910Z"
    },
    "papermill": {
     "duration": 0.026678,
     "end_time": "2025-08-11T16:31:30.788929",
     "exception": false,
     "start_time": "2025-08-11T16:31:30.762251",
     "status": "completed"
    },
    "tags": []
   },
   "outputs": [
    {
     "name": "stdout",
     "output_type": "stream",
     "text": [
      "P5     0\n",
      "P7     0\n",
      "P9     0\n",
      "P10    0\n",
      "P16    0\n",
      "P17    0\n",
      "P18    0\n",
      "P26    0\n",
      "P28    0\n",
      "P29    0\n",
      "dtype: int64 10 P5     0.0\n",
      "P7     0.0\n",
      "P9     0.0\n",
      "P10    0.0\n",
      "P16    0.0\n",
      "P17    0.0\n",
      "P18    0.0\n",
      "P26    0.0\n",
      "P28    0.0\n",
      "P29    0.0\n",
      "dtype: float64\n"
     ]
    }
   ],
   "source": [
    "# Same calculations for genes\n",
    "gene_missing = gene[gene_columns].isnull().sum()\n",
    "gene_total = len(gene)\n",
    "gene_missing_pct = (gene_missing / gene_total) * 100\n",
    "print(gene_missing, gene_total, gene_missing_pct)"
   ]
  },
  {
   "cell_type": "markdown",
   "id": "a35fd10d",
   "metadata": {
    "papermill": {
     "duration": 0.008737,
     "end_time": "2025-08-11T16:31:30.806625",
     "exception": false,
     "start_time": "2025-08-11T16:31:30.797888",
     "status": "completed"
    },
    "tags": []
   },
   "source": [
    "#### Missing values per sample in gene data:"
   ]
  },
  {
   "cell_type": "code",
   "execution_count": 18,
   "id": "3385f428",
   "metadata": {
    "execution": {
     "iopub.execute_input": "2025-08-11T16:31:30.827943Z",
     "iopub.status.busy": "2025-08-11T16:31:30.827592Z",
     "iopub.status.idle": "2025-08-11T16:31:30.834125Z",
     "shell.execute_reply": "2025-08-11T16:31:30.832854Z"
    },
    "papermill": {
     "duration": 0.019663,
     "end_time": "2025-08-11T16:31:30.836203",
     "exception": false,
     "start_time": "2025-08-11T16:31:30.816540",
     "status": "completed"
    },
    "tags": []
   },
   "outputs": [
    {
     "name": "stdout",
     "output_type": "stream",
     "text": [
      "  P5        :   0 / 10 (  0.0%)\n",
      "  P7        :   0 / 10 (  0.0%)\n",
      "  P9        :   0 / 10 (  0.0%)\n",
      "  P10       :   0 / 10 (  0.0%)\n",
      "  P16       :   0 / 10 (  0.0%)\n",
      "  P17       :   0 / 10 (  0.0%)\n",
      "  P18       :   0 / 10 (  0.0%)\n",
      "  P26       :   0 / 10 (  0.0%)\n",
      "  P28       :   0 / 10 (  0.0%)\n",
      "  P29       :   0 / 10 (  0.0%)\n"
     ]
    }
   ],
   "source": [
    "for g in gene_columns:\n",
    "    missing_count = gene_missing[g]\n",
    "    missing_pct = gene_missing_pct[g]\n",
    "    print(f\"  {g:<10}: {missing_count:>3} / {gene_total} ({missing_pct:>5.1f}%)\")"
   ]
  },
  {
   "cell_type": "markdown",
   "id": "e91cddea",
   "metadata": {
    "papermill": {
     "duration": 0.008785,
     "end_time": "2025-08-11T16:31:30.853879",
     "exception": false,
     "start_time": "2025-08-11T16:31:30.845094",
     "status": "completed"
    },
    "tags": []
   },
   "source": [
    "### Samples with >10% missing clinical fields"
   ]
  },
  {
   "cell_type": "code",
   "execution_count": 19,
   "id": "a79e867d",
   "metadata": {
    "execution": {
     "iopub.execute_input": "2025-08-11T16:31:30.874749Z",
     "iopub.status.busy": "2025-08-11T16:31:30.874407Z",
     "iopub.status.idle": "2025-08-11T16:31:30.881434Z",
     "shell.execute_reply": "2025-08-11T16:31:30.880430Z"
    },
    "papermill": {
     "duration": 0.019755,
     "end_time": "2025-08-11T16:31:30.883346",
     "exception": false,
     "start_time": "2025-08-11T16:31:30.863591",
     "status": "completed"
    },
    "tags": []
   },
   "outputs": [
    {
     "data": {
      "text/plain": [
       "9"
      ]
     },
     "execution_count": 19,
     "metadata": {},
     "output_type": "execute_result"
    }
   ],
   "source": [
    "clinical_fields = [col for col in clinical_clean.columns if col not in [clinical_clean.columns[0], 'patientid']]\n",
    "num_clinical_fields = len(clinical_fields)\n",
    "num_clinical_fields"
   ]
  },
  {
   "cell_type": "code",
   "execution_count": 20,
   "id": "50b6a82c",
   "metadata": {
    "execution": {
     "iopub.execute_input": "2025-08-11T16:31:30.903195Z",
     "iopub.status.busy": "2025-08-11T16:31:30.902826Z",
     "iopub.status.idle": "2025-08-11T16:31:30.911608Z",
     "shell.execute_reply": "2025-08-11T16:31:30.910576Z"
    },
    "papermill": {
     "duration": 0.020523,
     "end_time": "2025-08-11T16:31:30.913395",
     "exception": false,
     "start_time": "2025-08-11T16:31:30.892872",
     "status": "completed"
    },
    "tags": []
   },
   "outputs": [],
   "source": [
    "flagged_samples = []\n",
    "for idx, row in clinical_clean.iterrows():\n",
    "    patient_id = row['patientid']\n",
    "    # count missing values for this sample\n",
    "    missing_count = sum(pd.isnull(row[field]) for field in clinical_fields)\n",
    "    missing_percentage = (missing_count / num_clinical_fields) * 100\n",
    "    if missing_percentage > 10:\n",
    "        flagged_samples.append({\n",
    "            'patient_id': patient_id,\n",
    "            'missing_count': missing_count,\n",
    "            'missing_percentage': missing_percentage,\n",
    "            'missing_fields': [field for field in clinical_fields if pd.isnull(row[field])]\n",
    "        })"
   ]
  },
  {
   "cell_type": "code",
   "execution_count": 21,
   "id": "fcb71420",
   "metadata": {
    "execution": {
     "iopub.execute_input": "2025-08-11T16:31:30.934915Z",
     "iopub.status.busy": "2025-08-11T16:31:30.934581Z",
     "iopub.status.idle": "2025-08-11T16:31:30.941214Z",
     "shell.execute_reply": "2025-08-11T16:31:30.940028Z"
    },
    "papermill": {
     "duration": 0.019421,
     "end_time": "2025-08-11T16:31:30.942718",
     "exception": false,
     "start_time": "2025-08-11T16:31:30.923297",
     "status": "completed"
    },
    "tags": []
   },
   "outputs": [
    {
     "name": "stdout",
     "output_type": "stream",
     "text": [
      "Patient ID: P10\n",
      "  Missing fields: 4/9 (44.4%)\n",
      "  Missing: histo, treatmentid, stage, response.other.info\n",
      "Patient ID: P16\n",
      "  Missing fields: 4/9 (44.4%)\n",
      "  Missing: histo, treatmentid, stage, response.other.info\n",
      "Patient ID: P17\n",
      "  Missing fields: 4/9 (44.4%)\n",
      "  Missing: histo, treatmentid, stage, response.other.info\n",
      "Patient ID: P18\n",
      "  Missing fields: 4/9 (44.4%)\n",
      "  Missing: histo, treatmentid, stage, response.other.info\n",
      "Patient ID: P26\n",
      "  Missing fields: 4/9 (44.4%)\n",
      "  Missing: histo, treatmentid, stage, response.other.info\n",
      "Patient ID: P28\n",
      "  Missing fields: 4/9 (44.4%)\n",
      "  Missing: histo, treatmentid, stage, response.other.info\n",
      "Patient ID: P29\n",
      "  Missing fields: 4/9 (44.4%)\n",
      "  Missing: histo, treatmentid, stage, response.other.info\n",
      "Patient ID: P31\n",
      "  Missing fields: 4/9 (44.4%)\n",
      "  Missing: histo, treatmentid, stage, response.other.info\n",
      "Patient ID: P36\n",
      "  Missing fields: 4/9 (44.4%)\n",
      "  Missing: histo, treatmentid, stage, response.other.info\n",
      "Patient ID: P42\n",
      "  Missing fields: 4/9 (44.4%)\n",
      "  Missing: histo, treatmentid, stage, response.other.info\n",
      "Patient ID: P5\n",
      "  Missing fields: 4/9 (44.4%)\n",
      "  Missing: histo, treatmentid, stage, response.other.info\n",
      "Patient ID: P55\n",
      "  Missing fields: 4/9 (44.4%)\n",
      "  Missing: histo, treatmentid, stage, response.other.info\n",
      "Patient ID: P61\n",
      "  Missing fields: 4/9 (44.4%)\n",
      "  Missing: histo, treatmentid, stage, response.other.info\n",
      "Patient ID: P7\n",
      "  Missing fields: 4/9 (44.4%)\n",
      "  Missing: histo, treatmentid, stage, response.other.info\n",
      "Patient ID: P9\n",
      "  Missing fields: 4/9 (44.4%)\n",
      "  Missing: histo, treatmentid, stage, response.other.info\n",
      "Patient ID: nan\n",
      "  Missing fields: 8/9 (88.9%)\n",
      "  Missing: age, cancer_type, histo, tissueid, treatmentid, stage, response.other.info, recist\n",
      "Patient ID: nan\n",
      "  Missing fields: 9/9 (100.0%)\n",
      "  Missing: sex, age, cancer_type, histo, tissueid, treatmentid, stage, response.other.info, recist\n",
      "Patient ID: nan\n",
      "  Missing fields: 9/9 (100.0%)\n",
      "  Missing: sex, age, cancer_type, histo, tissueid, treatmentid, stage, response.other.info, recist\n",
      "Patient ID: nan\n",
      "  Missing fields: 9/9 (100.0%)\n",
      "  Missing: sex, age, cancer_type, histo, tissueid, treatmentid, stage, response.other.info, recist\n",
      "Patient ID: nan\n",
      "  Missing fields: 9/9 (100.0%)\n",
      "  Missing: sex, age, cancer_type, histo, tissueid, treatmentid, stage, response.other.info, recist\n"
     ]
    }
   ],
   "source": [
    "for sample in flagged_samples:\n",
    "    print(f\"Patient ID: {sample['patient_id']}\")\n",
    "    print(f\"  Missing fields: {sample['missing_count']}/{num_clinical_fields} ({sample['missing_percentage']:.1f}%)\")\n",
    "    print(f\"  Missing: {', '.join(sample['missing_fields'])}\")"
   ]
  },
  {
   "cell_type": "markdown",
   "id": "84229dae",
   "metadata": {
    "papermill": {
     "duration": 0.008983,
     "end_time": "2025-08-11T16:31:30.960938",
     "exception": false,
     "start_time": "2025-08-11T16:31:30.951955",
     "status": "completed"
    },
    "tags": []
   },
   "source": [
    "## Task 3: mean expression of each gene across all samples"
   ]
  },
  {
   "cell_type": "code",
   "execution_count": 22,
   "id": "ab3fd8fc",
   "metadata": {
    "execution": {
     "iopub.execute_input": "2025-08-11T16:31:30.980654Z",
     "iopub.status.busy": "2025-08-11T16:31:30.980327Z",
     "iopub.status.idle": "2025-08-11T16:31:30.989395Z",
     "shell.execute_reply": "2025-08-11T16:31:30.988465Z"
    },
    "papermill": {
     "duration": 0.020878,
     "end_time": "2025-08-11T16:31:30.991147",
     "exception": false,
     "start_time": "2025-08-11T16:31:30.970269",
     "status": "completed"
    },
    "tags": []
   },
   "outputs": [],
   "source": [
    "gene_no_index = pd.read_csv('/kaggle/input/icb-gene/icb_gene_expression.csv', index_col=0)\n",
    "gene_means = gene_no_index.mean(axis=1).sort_values(ascending=False)\n",
    "top_5_genes = gene_means.head(5)"
   ]
  },
  {
   "cell_type": "markdown",
   "id": "23f5b2b0",
   "metadata": {
    "papermill": {
     "duration": 0.008596,
     "end_time": "2025-08-11T16:31:31.009460",
     "exception": false,
     "start_time": "2025-08-11T16:31:31.000864",
     "status": "completed"
    },
    "tags": []
   },
   "source": [
    "### Top 5 most highly expressed genes:"
   ]
  },
  {
   "cell_type": "code",
   "execution_count": 23,
   "id": "f612e58d",
   "metadata": {
    "execution": {
     "iopub.execute_input": "2025-08-11T16:31:31.028941Z",
     "iopub.status.busy": "2025-08-11T16:31:31.028557Z",
     "iopub.status.idle": "2025-08-11T16:31:31.034582Z",
     "shell.execute_reply": "2025-08-11T16:31:31.033598Z"
    },
    "papermill": {
     "duration": 0.01786,
     "end_time": "2025-08-11T16:31:31.036244",
     "exception": false,
     "start_time": "2025-08-11T16:31:31.018384",
     "status": "completed"
    },
    "tags": []
   },
   "outputs": [
    {
     "name": "stdout",
     "output_type": "stream",
     "text": [
      "ENSG00000000971.17: 14.44\n",
      "ENSG00000000419.14: 10.64\n",
      "ENSG00000001084.13: 10.52\n",
      "ENSG00000001036.14: 9.94\n",
      "ENSG00000001167.15: 9.04\n"
     ]
    }
   ],
   "source": [
    "for gene, mean_expr in top_5_genes.items():\n",
    "    print(f\"{gene}: {mean_expr:.2f}\")"
   ]
  },
  {
   "cell_type": "markdown",
   "id": "8eef2c5f",
   "metadata": {
    "papermill": {
     "duration": 0.008879,
     "end_time": "2025-08-11T16:31:31.054152",
     "exception": false,
     "start_time": "2025-08-11T16:31:31.045273",
     "status": "completed"
    },
    "tags": []
   },
   "source": [
    "## Task 4: merge gene + clinical"
   ]
  },
  {
   "cell_type": "code",
   "execution_count": 24,
   "id": "26f450f7",
   "metadata": {
    "execution": {
     "iopub.execute_input": "2025-08-11T16:31:31.073209Z",
     "iopub.status.busy": "2025-08-11T16:31:31.072845Z",
     "iopub.status.idle": "2025-08-11T16:31:31.078958Z",
     "shell.execute_reply": "2025-08-11T16:31:31.077958Z"
    },
    "papermill": {
     "duration": 0.017566,
     "end_time": "2025-08-11T16:31:31.080574",
     "exception": false,
     "start_time": "2025-08-11T16:31:31.063008",
     "status": "completed"
    },
    "tags": []
   },
   "outputs": [],
   "source": [
    "# We need to transpose expression data so samples are rows\n",
    "gene_t = gene_no_index.T\n",
    "gene_t.index.name = 'patientid'\n",
    "gene_t = gene_t.reset_index()"
   ]
  },
  {
   "cell_type": "code",
   "execution_count": 25,
   "id": "fcad0df2",
   "metadata": {
    "execution": {
     "iopub.execute_input": "2025-08-11T16:31:31.101606Z",
     "iopub.status.busy": "2025-08-11T16:31:31.101291Z",
     "iopub.status.idle": "2025-08-11T16:31:31.132269Z",
     "shell.execute_reply": "2025-08-11T16:31:31.130958Z"
    },
    "papermill": {
     "duration": 0.043469,
     "end_time": "2025-08-11T16:31:31.134146",
     "exception": false,
     "start_time": "2025-08-11T16:31:31.090677",
     "status": "completed"
    },
    "tags": []
   },
   "outputs": [
    {
     "data": {
      "text/html": [
       "<div>\n",
       "<style scoped>\n",
       "    .dataframe tbody tr th:only-of-type {\n",
       "        vertical-align: middle;\n",
       "    }\n",
       "\n",
       "    .dataframe tbody tr th {\n",
       "        vertical-align: top;\n",
       "    }\n",
       "\n",
       "    .dataframe thead th {\n",
       "        text-align: right;\n",
       "    }\n",
       "</style>\n",
       "<table border=\"1\" class=\"dataframe\">\n",
       "  <thead>\n",
       "    <tr style=\"text-align: right;\">\n",
       "      <th></th>\n",
       "      <th>Unnamed: 0</th>\n",
       "      <th>patientid</th>\n",
       "      <th>sex</th>\n",
       "      <th>age</th>\n",
       "      <th>cancer_type</th>\n",
       "      <th>histo</th>\n",
       "      <th>tissueid</th>\n",
       "      <th>treatmentid</th>\n",
       "      <th>stage</th>\n",
       "      <th>response.other.info</th>\n",
       "      <th>...</th>\n",
       "      <th>ENSG00000000003.15</th>\n",
       "      <th>ENSG00000000005.6</th>\n",
       "      <th>ENSG00000000419.14</th>\n",
       "      <th>ENSG00000000457.14</th>\n",
       "      <th>ENSG00000000460.17</th>\n",
       "      <th>ENSG00000000938.13</th>\n",
       "      <th>ENSG00000000971.17</th>\n",
       "      <th>ENSG00000001036.14</th>\n",
       "      <th>ENSG00000001084.13</th>\n",
       "      <th>ENSG00000001167.15</th>\n",
       "    </tr>\n",
       "  </thead>\n",
       "  <tbody>\n",
       "    <tr>\n",
       "      <th>0</th>\n",
       "      <td>P10</td>\n",
       "      <td>P10</td>\n",
       "      <td>M</td>\n",
       "      <td>55.0</td>\n",
       "      <td>Kidney</td>\n",
       "      <td>NaN</td>\n",
       "      <td>Kidney</td>\n",
       "      <td>NaN</td>\n",
       "      <td>NaN</td>\n",
       "      <td>NaN</td>\n",
       "      <td>...</td>\n",
       "      <td>9.273033</td>\n",
       "      <td>2.902536</td>\n",
       "      <td>11.111797</td>\n",
       "      <td>8.732069</td>\n",
       "      <td>8.640439</td>\n",
       "      <td>7.092178</td>\n",
       "      <td>15.074575</td>\n",
       "      <td>9.977824</td>\n",
       "      <td>10.058428</td>\n",
       "      <td>8.290365</td>\n",
       "    </tr>\n",
       "    <tr>\n",
       "      <th>1</th>\n",
       "      <td>P16</td>\n",
       "      <td>P16</td>\n",
       "      <td>F</td>\n",
       "      <td>60.0</td>\n",
       "      <td>Kidney</td>\n",
       "      <td>NaN</td>\n",
       "      <td>Kidney</td>\n",
       "      <td>NaN</td>\n",
       "      <td>NaN</td>\n",
       "      <td>NaN</td>\n",
       "      <td>...</td>\n",
       "      <td>9.772394</td>\n",
       "      <td>3.521746</td>\n",
       "      <td>10.456492</td>\n",
       "      <td>8.699541</td>\n",
       "      <td>9.046752</td>\n",
       "      <td>6.683522</td>\n",
       "      <td>12.631190</td>\n",
       "      <td>9.908777</td>\n",
       "      <td>10.733509</td>\n",
       "      <td>9.094512</td>\n",
       "    </tr>\n",
       "    <tr>\n",
       "      <th>2</th>\n",
       "      <td>P17</td>\n",
       "      <td>P17</td>\n",
       "      <td>M</td>\n",
       "      <td>65.0</td>\n",
       "      <td>Kidney</td>\n",
       "      <td>NaN</td>\n",
       "      <td>Kidney</td>\n",
       "      <td>NaN</td>\n",
       "      <td>NaN</td>\n",
       "      <td>NaN</td>\n",
       "      <td>...</td>\n",
       "      <td>7.824535</td>\n",
       "      <td>-9.965784</td>\n",
       "      <td>10.524970</td>\n",
       "      <td>8.679584</td>\n",
       "      <td>8.146462</td>\n",
       "      <td>8.423571</td>\n",
       "      <td>15.338373</td>\n",
       "      <td>8.679584</td>\n",
       "      <td>10.478534</td>\n",
       "      <td>8.619713</td>\n",
       "    </tr>\n",
       "    <tr>\n",
       "      <th>3</th>\n",
       "      <td>P18</td>\n",
       "      <td>P18</td>\n",
       "      <td>M</td>\n",
       "      <td>68.0</td>\n",
       "      <td>Kidney</td>\n",
       "      <td>NaN</td>\n",
       "      <td>Kidney</td>\n",
       "      <td>NaN</td>\n",
       "      <td>NaN</td>\n",
       "      <td>NaN</td>\n",
       "      <td>...</td>\n",
       "      <td>8.591114</td>\n",
       "      <td>3.618535</td>\n",
       "      <td>10.105455</td>\n",
       "      <td>8.671533</td>\n",
       "      <td>8.549159</td>\n",
       "      <td>7.090916</td>\n",
       "      <td>12.880043</td>\n",
       "      <td>9.739435</td>\n",
       "      <td>11.084393</td>\n",
       "      <td>9.488785</td>\n",
       "    </tr>\n",
       "    <tr>\n",
       "      <th>4</th>\n",
       "      <td>P26</td>\n",
       "      <td>P26</td>\n",
       "      <td>F</td>\n",
       "      <td>75.0</td>\n",
       "      <td>Kidney</td>\n",
       "      <td>NaN</td>\n",
       "      <td>Kidney</td>\n",
       "      <td>NaN</td>\n",
       "      <td>NaN</td>\n",
       "      <td>NaN</td>\n",
       "      <td>...</td>\n",
       "      <td>9.148168</td>\n",
       "      <td>-9.965784</td>\n",
       "      <td>10.895234</td>\n",
       "      <td>9.848007</td>\n",
       "      <td>9.823800</td>\n",
       "      <td>8.163683</td>\n",
       "      <td>15.340231</td>\n",
       "      <td>9.878880</td>\n",
       "      <td>9.517653</td>\n",
       "      <td>8.000494</td>\n",
       "    </tr>\n",
       "  </tbody>\n",
       "</table>\n",
       "<p>5 rows × 21 columns</p>\n",
       "</div>"
      ],
      "text/plain": [
       "  Unnamed: 0 patientid sex   age cancer_type  histo tissueid  treatmentid  \\\n",
       "0        P10       P10   M  55.0      Kidney    NaN   Kidney          NaN   \n",
       "1        P16       P16   F  60.0      Kidney    NaN   Kidney          NaN   \n",
       "2        P17       P17   M  65.0      Kidney    NaN   Kidney          NaN   \n",
       "3        P18       P18   M  68.0      Kidney    NaN   Kidney          NaN   \n",
       "4        P26       P26   F  75.0      Kidney    NaN   Kidney          NaN   \n",
       "\n",
       "   stage  response.other.info  ... ENSG00000000003.15  ENSG00000000005.6  \\\n",
       "0    NaN                  NaN  ...           9.273033           2.902536   \n",
       "1    NaN                  NaN  ...           9.772394           3.521746   \n",
       "2    NaN                  NaN  ...           7.824535          -9.965784   \n",
       "3    NaN                  NaN  ...           8.591114           3.618535   \n",
       "4    NaN                  NaN  ...           9.148168          -9.965784   \n",
       "\n",
       "   ENSG00000000419.14  ENSG00000000457.14  ENSG00000000460.17  \\\n",
       "0           11.111797            8.732069            8.640439   \n",
       "1           10.456492            8.699541            9.046752   \n",
       "2           10.524970            8.679584            8.146462   \n",
       "3           10.105455            8.671533            8.549159   \n",
       "4           10.895234            9.848007            9.823800   \n",
       "\n",
       "   ENSG00000000938.13  ENSG00000000971.17  ENSG00000001036.14  \\\n",
       "0            7.092178           15.074575            9.977824   \n",
       "1            6.683522           12.631190            9.908777   \n",
       "2            8.423571           15.338373            8.679584   \n",
       "3            7.090916           12.880043            9.739435   \n",
       "4            8.163683           15.340231            9.878880   \n",
       "\n",
       "   ENSG00000001084.13  ENSG00000001167.15  \n",
       "0           10.058428            8.290365  \n",
       "1           10.733509            9.094512  \n",
       "2           10.478534            8.619713  \n",
       "3           11.084393            9.488785  \n",
       "4            9.517653            8.000494  \n",
       "\n",
       "[5 rows x 21 columns]"
      ]
     },
     "execution_count": 25,
     "metadata": {},
     "output_type": "execute_result"
    }
   ],
   "source": [
    "merged = pd.merge(clinical, gene_t, on='patientid', how='inner')\n",
    "merged.head()"
   ]
  },
  {
   "cell_type": "code",
   "execution_count": 26,
   "id": "2edceb32",
   "metadata": {
    "execution": {
     "iopub.execute_input": "2025-08-11T16:31:31.154756Z",
     "iopub.status.busy": "2025-08-11T16:31:31.154433Z",
     "iopub.status.idle": "2025-08-11T16:31:31.160629Z",
     "shell.execute_reply": "2025-08-11T16:31:31.159835Z"
    },
    "papermill": {
     "duration": 0.018577,
     "end_time": "2025-08-11T16:31:31.162561",
     "exception": false,
     "start_time": "2025-08-11T16:31:31.143984",
     "status": "completed"
    },
    "tags": []
   },
   "outputs": [
    {
     "data": {
      "text/plain": [
       "(10, 21)"
      ]
     },
     "execution_count": 26,
     "metadata": {},
     "output_type": "execute_result"
    }
   ],
   "source": [
    "merged.shape"
   ]
  },
  {
   "cell_type": "markdown",
   "id": "259cbf0a",
   "metadata": {
    "papermill": {
     "duration": 0.009662,
     "end_time": "2025-08-11T16:31:31.182370",
     "exception": false,
     "start_time": "2025-08-11T16:31:31.172708",
     "status": "completed"
    },
    "tags": []
   },
   "source": [
    "## Task 5: simple analysis => wilcoxon test"
   ]
  },
  {
   "cell_type": "code",
   "execution_count": 27,
   "id": "5f398ef5",
   "metadata": {
    "execution": {
     "iopub.execute_input": "2025-08-11T16:31:31.203619Z",
     "iopub.status.busy": "2025-08-11T16:31:31.203292Z",
     "iopub.status.idle": "2025-08-11T16:31:31.212529Z",
     "shell.execute_reply": "2025-08-11T16:31:31.211274Z"
    },
    "papermill": {
     "duration": 0.022538,
     "end_time": "2025-08-11T16:31:31.214263",
     "exception": false,
     "start_time": "2025-08-11T16:31:31.191725",
     "status": "completed"
    },
    "tags": []
   },
   "outputs": [
    {
     "data": {
      "text/plain": [
       "Index(['ENSG00000000971.17', 'ENSG00000000419.14', 'ENSG00000001084.13',\n",
       "       'ENSG00000001036.14', 'ENSG00000001167.15'],\n",
       "      dtype='object')"
      ]
     },
     "execution_count": 27,
     "metadata": {},
     "output_type": "execute_result"
    }
   ],
   "source": [
    "top_5_genes = gene_no_index.mean(axis=1).sort_values(ascending=False).head(5).index\n",
    "top_5_genes"
   ]
  },
  {
   "cell_type": "code",
   "execution_count": 28,
   "id": "621f3dae",
   "metadata": {
    "execution": {
     "iopub.execute_input": "2025-08-11T16:31:31.234871Z",
     "iopub.status.busy": "2025-08-11T16:31:31.234571Z",
     "iopub.status.idle": "2025-08-11T16:31:31.244611Z",
     "shell.execute_reply": "2025-08-11T16:31:31.243800Z"
    },
    "papermill": {
     "duration": 0.021849,
     "end_time": "2025-08-11T16:31:31.246025",
     "exception": false,
     "start_time": "2025-08-11T16:31:31.224176",
     "status": "completed"
    },
    "tags": []
   },
   "outputs": [
    {
     "data": {
      "text/plain": [
       "array(['PD', 'mixed', 'PR'], dtype=object)"
      ]
     },
     "execution_count": 28,
     "metadata": {},
     "output_type": "execute_result"
    }
   ],
   "source": [
    "# use recist as grouping\n",
    "groups = merged[\"recist\"].unique()\n",
    "groups"
   ]
  },
  {
   "cell_type": "markdown",
   "id": "b396b360",
   "metadata": {
    "papermill": {
     "duration": 0.009241,
     "end_time": "2025-08-11T16:31:31.265059",
     "exception": false,
     "start_time": "2025-08-11T16:31:31.255818",
     "status": "completed"
    },
    "tags": []
   },
   "source": [
    "### Wilcoxon test"
   ]
  },
  {
   "cell_type": "code",
   "execution_count": 29,
   "id": "3b3c662e",
   "metadata": {
    "execution": {
     "iopub.execute_input": "2025-08-11T16:31:31.286888Z",
     "iopub.status.busy": "2025-08-11T16:31:31.286033Z",
     "iopub.status.idle": "2025-08-11T16:31:32.793364Z",
     "shell.execute_reply": "2025-08-11T16:31:32.792312Z"
    },
    "papermill": {
     "duration": 1.520164,
     "end_time": "2025-08-11T16:31:32.794986",
     "exception": false,
     "start_time": "2025-08-11T16:31:31.274822",
     "status": "completed"
    },
    "tags": []
   },
   "outputs": [],
   "source": [
    "from scipy.stats import mannwhitneyu"
   ]
  },
  {
   "cell_type": "code",
   "execution_count": 30,
   "id": "54a774a7",
   "metadata": {
    "execution": {
     "iopub.execute_input": "2025-08-11T16:31:32.816629Z",
     "iopub.status.busy": "2025-08-11T16:31:32.816116Z",
     "iopub.status.idle": "2025-08-11T16:31:32.841180Z",
     "shell.execute_reply": "2025-08-11T16:31:32.839978Z"
    },
    "papermill": {
     "duration": 0.037715,
     "end_time": "2025-08-11T16:31:32.842861",
     "exception": false,
     "start_time": "2025-08-11T16:31:32.805146",
     "status": "completed"
    },
    "tags": []
   },
   "outputs": [
    {
     "name": "stdout",
     "output_type": "stream",
     "text": [
      "ENSG00000000971.17: p = 0.3810\n",
      "ENSG00000000419.14: p = 0.5714\n",
      "ENSG00000001084.13: p = 0.3810\n",
      "ENSG00000001036.14: p = 0.1905\n",
      "ENSG00000001167.15: p = 0.1905\n"
     ]
    }
   ],
   "source": [
    "group_var = \"recist\"\n",
    "for gene in top_5_genes:\n",
    "    group_data = [merged[merged[group_var] == group][gene].values for group in groups]\n",
    "    if len(group_data[0]) > 0 and len(group_data[1]) > 0:\n",
    "        statistic, p_value = mannwhitneyu(group_data[0], group_data[1])\n",
    "        print(f\"{gene}: p = {p_value:.4f}\")"
   ]
  },
  {
   "cell_type": "markdown",
   "id": "717148ea",
   "metadata": {
    "papermill": {
     "duration": 0.010094,
     "end_time": "2025-08-11T16:31:32.862890",
     "exception": false,
     "start_time": "2025-08-11T16:31:32.852796",
     "status": "completed"
    },
    "tags": []
   },
   "source": [
    "## Task 6: save files"
   ]
  },
  {
   "cell_type": "markdown",
   "id": "15ab2cbb",
   "metadata": {
    "papermill": {
     "duration": 0.011372,
     "end_time": "2025-08-11T16:31:32.886559",
     "exception": false,
     "start_time": "2025-08-11T16:31:32.875187",
     "status": "completed"
    },
    "tags": []
   },
   "source": [
    "(for better visibility, i'll do the steps once again when saving files)"
   ]
  },
  {
   "cell_type": "code",
   "execution_count": 31,
   "id": "155109d6",
   "metadata": {
    "execution": {
     "iopub.execute_input": "2025-08-11T16:31:32.910887Z",
     "iopub.status.busy": "2025-08-11T16:31:32.910370Z",
     "iopub.status.idle": "2025-08-11T16:31:32.923800Z",
     "shell.execute_reply": "2025-08-11T16:31:32.922135Z"
    },
    "papermill": {
     "duration": 0.028387,
     "end_time": "2025-08-11T16:31:32.926273",
     "exception": false,
     "start_time": "2025-08-11T16:31:32.897886",
     "status": "completed"
    },
    "tags": []
   },
   "outputs": [],
   "source": [
    "clinical_df = pd.read_csv('/kaggle/input/icb-gene/icb_clinical_data.csv')\n",
    "expression_df = pd.read_csv('/kaggle/input/icb-gene/icb_gene_expression.csv', index_col=0)"
   ]
  },
  {
   "cell_type": "code",
   "execution_count": 32,
   "id": "b69fbccb",
   "metadata": {
    "execution": {
     "iopub.execute_input": "2025-08-11T16:31:32.948795Z",
     "iopub.status.busy": "2025-08-11T16:31:32.948433Z",
     "iopub.status.idle": "2025-08-11T16:31:32.963029Z",
     "shell.execute_reply": "2025-08-11T16:31:32.962056Z"
    },
    "papermill": {
     "duration": 0.027529,
     "end_time": "2025-08-11T16:31:32.964842",
     "exception": false,
     "start_time": "2025-08-11T16:31:32.937313",
     "status": "completed"
    },
    "tags": []
   },
   "outputs": [],
   "source": [
    "# qc_report.txt (actually i replaced it with a csv file and added some basic sums)\n",
    "clinical_clean = clinical_df.replace('NA', np.nan)\n",
    "clinical_ids = set(clinical_df['patientid'].astype(str))\n",
    "expression_ids = set(expression_df.columns)\n",
    "qc_stats = pd.DataFrame({\n",
    "    'metric': ['clinical_samples', 'expression_samples', 'common_samples', 'clinical_only', 'expression_only', 'clinical_missing_total'],\n",
    "    'value': [len(clinical_ids), len(expression_ids), len(clinical_ids & expression_ids), \n",
    "              len(clinical_ids - expression_ids), len(expression_ids - clinical_ids), clinical_clean.isnull().sum().sum()]\n",
    "})\n",
    "qc_stats.to_csv('qc_report.csv', index=False)"
   ]
  },
  {
   "cell_type": "code",
   "execution_count": 33,
   "id": "6fe4d27d",
   "metadata": {
    "execution": {
     "iopub.execute_input": "2025-08-11T16:31:32.986161Z",
     "iopub.status.busy": "2025-08-11T16:31:32.985742Z",
     "iopub.status.idle": "2025-08-11T16:31:32.994934Z",
     "shell.execute_reply": "2025-08-11T16:31:32.993827Z"
    },
    "papermill": {
     "duration": 0.021888,
     "end_time": "2025-08-11T16:31:32.996887",
     "exception": false,
     "start_time": "2025-08-11T16:31:32.974999",
     "status": "completed"
    },
    "tags": []
   },
   "outputs": [],
   "source": [
    "# top5_genes.csv\n",
    "top_5 = expression_df.mean(axis=1).sort_values(ascending=False).head(5)\n",
    "top5_df = pd.DataFrame({'gene': top_5.index, 'mean_expression': top_5.values})\n",
    "top5_df.to_csv('top5_genes.csv', index=False)"
   ]
  },
  {
   "cell_type": "code",
   "execution_count": 34,
   "id": "232bfbc4",
   "metadata": {
    "execution": {
     "iopub.execute_input": "2025-08-11T16:31:33.022935Z",
     "iopub.status.busy": "2025-08-11T16:31:33.021951Z",
     "iopub.status.idle": "2025-08-11T16:31:33.037619Z",
     "shell.execute_reply": "2025-08-11T16:31:33.036203Z"
    },
    "papermill": {
     "duration": 0.030699,
     "end_time": "2025-08-11T16:31:33.039472",
     "exception": false,
     "start_time": "2025-08-11T16:31:33.008773",
     "status": "completed"
    },
    "tags": []
   },
   "outputs": [],
   "source": [
    "# 3. merged_data.csv\n",
    "expression_t = expression_df.T.reset_index().rename(columns={'index': 'patientid'})\n",
    "merged_df = pd.merge(clinical_df, expression_t, on='patientid', how='inner')\n",
    "merged_df.to_csv('merged_data.csv', index=False)"
   ]
  }
 ],
 "metadata": {
  "kaggle": {
   "accelerator": "none",
   "dataSources": [
    {
     "datasetId": 8050241,
     "sourceId": 12735680,
     "sourceType": "datasetVersion"
    }
   ],
   "dockerImageVersionId": 31089,
   "isGpuEnabled": false,
   "isInternetEnabled": true,
   "language": "python",
   "sourceType": "notebook"
  },
  "kernelspec": {
   "display_name": "Python 3",
   "language": "python",
   "name": "python3"
  },
  "language_info": {
   "codemirror_mode": {
    "name": "ipython",
    "version": 3
   },
   "file_extension": ".py",
   "mimetype": "text/x-python",
   "name": "python",
   "nbconvert_exporter": "python",
   "pygments_lexer": "ipython3",
   "version": "3.11.13"
  },
  "papermill": {
   "default_parameters": {},
   "duration": 11.353213,
   "end_time": "2025-08-11T16:31:33.772842",
   "environment_variables": {},
   "exception": null,
   "input_path": "__notebook__.ipynb",
   "output_path": "__notebook__.ipynb",
   "parameters": {},
   "start_time": "2025-08-11T16:31:22.419629",
   "version": "2.6.0"
  }
 },
 "nbformat": 4,
 "nbformat_minor": 5
}
